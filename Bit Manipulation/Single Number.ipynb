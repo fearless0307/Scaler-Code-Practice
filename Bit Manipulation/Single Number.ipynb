{
 "cells": [
  {
   "cell_type": "markdown",
   "source": [
    "# Single Number\r\n",
    "\r\n",
    "## Problem Description\r\n",
    "\r\n",
    "Given an array of integers A, every element appears twice except for one. Find that single one.\r\n",
    "\r\n",
    "NOTE: Your algorithm should have a linear runtime complexity. Could you implement it without using extra memory?\r\n",
    "\r\n",
    "## Problem Constraints\r\n",
    "\r\n",
    "2 <= |A| <= 2000000\r\n",
    "\r\n",
    "0 <= A[i] <= INTMAX\r\n",
    "\r\n",
    "## Input Format\r\n",
    "\r\n",
    "First and only argument of input contains an integer array A.\r\n",
    "\r\n",
    "## Output Format\r\n",
    "\r\n",
    "Return a single integer denoting the single element.\r\n",
    "\r\n",
    "## Example Input\r\n",
    "\r\n",
    "### Input 1:\r\n",
    "```\r\n",
    " A = [1, 2, 2, 3, 1]\r\n",
    "```\r\n",
    "\r\n",
    "### Input 2:\r\n",
    "```\r\n",
    " A = [1, 2, 2]\r\n",
    "```\r\n",
    "\r\n",
    "## Example Output\r\n",
    "\r\n",
    "### Output 1:\r\n",
    "```\r\n",
    " 3\r\n",
    "```\r\n",
    "\r\n",
    "### Output 2:\r\n",
    "```\r\n",
    " 1\r\n",
    "```\r\n",
    "\r\n",
    "## Example Explanation\r\n",
    "\r\n",
    "### Explanation 1:\r\n",
    "```\r\n",
    "3 occurs once.\r\n",
    "```\r\n",
    "\r\n",
    "### Explanation 2:\r\n",
    "```\r\n",
    "1 occurs once.\r\n",
    "```"
   ],
   "metadata": {}
  },
  {
   "cell_type": "code",
   "execution_count": 7,
   "source": [
    "class Solution:\r\n",
    "    # @param A : tuple of integers\r\n",
    "    # @return an integer\r\n",
    "    def singleNumber(self, A):  # TC O(n), SC O(1)\r\n",
    "        val = 0\r\n",
    "        for i in A:\r\n",
    "            val = val ^ i\r\n",
    "        return val"
   ],
   "outputs": [],
   "metadata": {}
  },
  {
   "cell_type": "code",
   "execution_count": 8,
   "source": [
    "# Test Code\r\n",
    "assert Solution().singleNumber([1, 2, 2, 3, 1]) == 3\r\n",
    "assert Solution().singleNumber([1, 2, 2]) == 1"
   ],
   "outputs": [],
   "metadata": {}
  }
 ],
 "metadata": {
  "orig_nbformat": 4,
  "language_info": {
   "name": "python",
   "version": "3.7.1",
   "mimetype": "text/x-python",
   "codemirror_mode": {
    "name": "ipython",
    "version": 3
   },
   "pygments_lexer": "ipython3",
   "nbconvert_exporter": "python",
   "file_extension": ".py"
  },
  "kernelspec": {
   "name": "python3",
   "display_name": "Python 3.7.1 32-bit"
  },
  "interpreter": {
   "hash": "c1eae14a0fa37544b0dada9dce83ea6ef17b64b01e21d514c54ca6fed7a2fdd9"
  }
 },
 "nbformat": 4,
 "nbformat_minor": 2
}