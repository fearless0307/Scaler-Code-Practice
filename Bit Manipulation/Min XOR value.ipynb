{
 "cells": [
  {
   "cell_type": "markdown",
   "source": [
    "# Min XOR value\r\n",
    "\r\n",
    "## Problem Description\r\n",
    "\r\n",
    "Given an integer array A of N integers, find the pair of integers in the array which have minimum XOR value. Report the minimum XOR value.\r\n",
    "\r\n",
    "## Problem Constraints\r\n",
    "\r\n",
    "2 <= length of the array <= 100000\r\n",
    "\r\n",
    "0 <= A[i] <= 109\r\n",
    "\r\n",
    "## Input Format\r\n",
    "\r\n",
    "First and only argument of input contains an integer array A.\r\n",
    "\r\n",
    "## Output Format\r\n",
    "\r\n",
    "Return a single integer denoting minimum xor value.\r\n",
    "\r\n",
    "## Example Input\r\n",
    "\r\n",
    "### Input 1:\r\n",
    "```\r\n",
    " A = [0, 2, 5, 7]\r\n",
    "```\r\n",
    "\r\n",
    "### Input 2:\r\n",
    "```\r\n",
    " A = [0, 4, 7, 9]\r\n",
    "```\r\n",
    "\r\n",
    "## Example Output\r\n",
    "\r\n",
    "### Output 1:\r\n",
    "```\r\n",
    " 2\r\n",
    "```\r\n",
    "\r\n",
    "### Output 2:\r\n",
    "```\r\n",
    " 3\r\n",
    "```\r\n",
    "\r\n",
    "## Example Explanation\r\n",
    "\r\n",
    "### Explanation 1:\r\n",
    "```\r\n",
    " 0 xor 2 = 2\r\n",
    "```"
   ],
   "metadata": {}
  },
  {
   "cell_type": "code",
   "execution_count": null,
   "source": [],
   "outputs": [],
   "metadata": {}
  }
 ],
 "metadata": {
  "orig_nbformat": 4,
  "language_info": {
   "name": "python"
  }
 },
 "nbformat": 4,
 "nbformat_minor": 2
}