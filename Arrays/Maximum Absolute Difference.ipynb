{
 "cells": [
  {
   "cell_type": "markdown",
   "source": [
    "# Maximum Absolute Difference\r\n",
    "\r\n",
    "## Problem Description\r\n",
    "\r\n",
    "You are given an array of N integers, A1, A2, .... AN.\r\n",
    "Return the maximum value of `f(i, j)` for all 1 ≤ i, j ≤ N. `f(i, j)` is defined as `|A[i] - A[j]| + |i - j|`, where |x| denotes absolute value of x.\r\n",
    "\r\n",
    "## Problem Constraints\r\n",
    "\r\n",
    "1 <= N <= 100000\r\n",
    "\r\n",
    "-109 <= A[i] <= 109\r\n",
    "\r\n",
    "## Input Format\r\n",
    "\r\n",
    "First argument is an integer array A of size N.\r\n",
    "\r\n",
    "## Output Format\r\n",
    "\r\n",
    "Return an integer denoting the maximum value of f(i, j).\r\n",
    "\r\n",
    "## Example Input\r\n",
    "\r\n",
    "### Input 1:\r\n",
    "\r\n",
    "```\r\n",
    "A = [1, 3, -1]\r\n",
    "```\r\n",
    "\r\n",
    "### Input 2:\r\n",
    "\r\n",
    "```\r\n",
    "A = [2]\r\n",
    "```\r\n",
    "\r\n",
    "## Example Output\r\n",
    "\r\n",
    "### Output 1:\r\n",
    "\r\n",
    "```\r\n",
    "5\r\n",
    "```\r\n",
    "\r\n",
    "### Output 2:\r\n",
    "```\r\n",
    "0\r\n",
    "```\r\n",
    "\r\n",
    "## Example Explanation\r\n",
    "\r\n",
    "### Explanation 1:\r\n",
    "\r\n",
    "```\r\n",
    "f(1, 1) = f(2, 2) = f(3, 3) = 0\r\n",
    "f(1, 2) = f(2, 1) = |1 - 3| + |1 - 2| = 3\r\n",
    "f(1, 3) = f(3, 1) = |1 - (-1)| + |1 - 3| = 4\r\n",
    "f(2, 3) = f(3, 2) = |3 - (-1)| + |2 - 3| = 5\r\n",
    "\r\n",
    "So, we return 5.\r\n",
    "```\r\n",
    "\r\n",
    "### Explanation 2:\r\n",
    "\r\n",
    "```\r\n",
    "Only possibility is i = 1 and j = 1. That gives answer = 0.\r\n",
    "```"
   ],
   "metadata": {}
  },
  {
   "cell_type": "code",
   "execution_count": 2,
   "source": [
    "class Solution:\r\n",
    "    # @param A : list of integers\r\n",
    "    # @return an integer\r\n",
    "    def maxArr(self, A):\r\n",
    "        x_max = y_max = -10^9\r\n",
    "        x_min = y_min = 10^9\r\n",
    "        for i, val in enumerate(A):\r\n",
    "            x = val + i\r\n",
    "            if x > x_max:\r\n",
    "                x_max = x\r\n",
    "            if x < x_min:\r\n",
    "                x_min = x\r\n",
    "            y = val - i\r\n",
    "            if y > y_max:\r\n",
    "                y_max = y\r\n",
    "            if y < y_min:\r\n",
    "                y_min = y\r\n",
    "        return max(x_max-x_min, y_max-y_min)\r\n"
   ],
   "outputs": [],
   "metadata": {}
  },
  {
   "cell_type": "code",
   "execution_count": 6,
   "source": [
    "# Test Code\r\n",
    "assert Solution().maxArr([1, 3, -1]) == 5\r\n",
    "assert Solution().maxArr([2]) == 0"
   ],
   "outputs": [],
   "metadata": {}
  }
 ],
 "metadata": {
  "orig_nbformat": 4,
  "language_info": {
   "name": "python",
   "version": "3.7.1",
   "mimetype": "text/x-python",
   "codemirror_mode": {
    "name": "ipython",
    "version": 3
   },
   "pygments_lexer": "ipython3",
   "nbconvert_exporter": "python",
   "file_extension": ".py"
  },
  "kernelspec": {
   "name": "python3",
   "display_name": "Python 3.7.1 32-bit"
  },
  "interpreter": {
   "hash": "c1eae14a0fa37544b0dada9dce83ea6ef17b64b01e21d514c54ca6fed7a2fdd9"
  }
 },
 "nbformat": 4,
 "nbformat_minor": 2
}